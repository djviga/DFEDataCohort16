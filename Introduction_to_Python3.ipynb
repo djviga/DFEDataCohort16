{
  "nbformat": 4,
  "nbformat_minor": 0,
  "metadata": {
    "colab": {
      "name": "Introduction to Python3.ipynb",
      "provenance": [],
      "collapsed_sections": [],
      "authorship_tag": "ABX9TyPaS5IrgsLmv1ovQZDOFVV8",
      "include_colab_link": true
    },
    "kernelspec": {
      "name": "python3",
      "display_name": "Python 3"
    },
    "language_info": {
      "name": "python"
    }
  },
  "cells": [
    {
      "cell_type": "markdown",
      "metadata": {
        "id": "view-in-github",
        "colab_type": "text"
      },
      "source": [
        "<a href=\"https://colab.research.google.com/github/djviga/DFEDataCohort16/blob/main/Introduction_to_Python3.ipynb\" target=\"_parent\"><img src=\"https://colab.research.google.com/assets/colab-badge.svg\" alt=\"Open In Colab\"/></a>"
      ]
    },
    {
      "cell_type": "markdown",
      "source": [
        "Introduction to Python3 Creating variables Print values"
      ],
      "metadata": {
        "id": "fnpltNEzCvy-"
      }
    },
    {
      "cell_type": "code",
      "execution_count": 6,
      "metadata": {
        "colab": {
          "base_uri": "https://localhost:8080/"
        },
        "id": "azhZN7dZ9Mpg",
        "outputId": "9bd43518-f2a2-4fd1-fb9c-b6a79b7f9868"
      },
      "outputs": [
        {
          "output_type": "stream",
          "name": "stdout",
          "text": [
            "Deepanshu Pasrija\n",
            "DEEPANSHU\n"
          ]
        }
      ],
      "source": [
        "first = \"Deepanshu\"\n",
        "last = \"Pasrija\"\n",
        "print(first, last) # Print function - parameters as first and last\n",
        "# numb = 23\n",
        "\n",
        "firstu = first.upper()  # To put words in upper case\n",
        "print(firstu)"
      ]
    },
    {
      "cell_type": "code",
      "source": [
        "names = [first, last, first, \"error\"] # [] are to create a list\n",
        "print(names)"
      ],
      "metadata": {
        "colab": {
          "base_uri": "https://localhost:8080/"
        },
        "id": "7ucrH_cZC4GD",
        "outputId": "97685cb6-f62e-41d2-abda-19a8e647dba4"
      },
      "execution_count": 7,
      "outputs": [
        {
          "output_type": "stream",
          "name": "stdout",
          "text": [
            "['Deepanshu', 'Pasrija', 'Deepanshu', 'error']\n"
          ]
        }
      ]
    },
    {
      "cell_type": "code",
      "source": [
        "boolVar = bool(1) # 1-> value is true, 0 -> values is false\n",
        "print(bool)"
      ],
      "metadata": {
        "colab": {
          "base_uri": "https://localhost:8080/"
        },
        "id": "YFUL4J27EDaa",
        "outputId": "06637030-2644-4a67-a893-6f77061cceee"
      },
      "execution_count": 8,
      "outputs": [
        {
          "output_type": "stream",
          "name": "stdout",
          "text": [
            "<class 'bool'>\n"
          ]
        }
      ]
    },
    {
      "cell_type": "code",
      "source": [
        "numb = 23\n",
        "number = 2\n",
        "number += numb\n",
        "print(number)"
      ],
      "metadata": {
        "colab": {
          "base_uri": "https://localhost:8080/"
        },
        "id": "rsXVpOLvcTu-",
        "outputId": "76f0b884-5dfe-40cc-ebec-c7aa5c2a267b"
      },
      "execution_count": 10,
      "outputs": [
        {
          "output_type": "stream",
          "name": "stdout",
          "text": [
            "25\n"
          ]
        }
      ]
    }
  ]
}