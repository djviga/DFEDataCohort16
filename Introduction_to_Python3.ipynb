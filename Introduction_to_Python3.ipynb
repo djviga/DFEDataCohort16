{
  "nbformat": 4,
  "nbformat_minor": 0,
  "metadata": {
    "colab": {
      "name": "Introduction to Python3.ipynb",
      "provenance": [],
      "authorship_tag": "ABX9TyNAP9siGZ9DE5Am4vZDoK53",
      "include_colab_link": true
    },
    "kernelspec": {
      "name": "python3",
      "display_name": "Python 3"
    },
    "language_info": {
      "name": "python"
    }
  },
  "cells": [
    {
      "cell_type": "markdown",
      "metadata": {
        "id": "view-in-github",
        "colab_type": "text"
      },
      "source": [
        "<a href=\"https://colab.research.google.com/github/djviga/DFEDataCohort16/blob/main/Introduction_to_Python3.ipynb\" target=\"_parent\"><img src=\"https://colab.research.google.com/assets/colab-badge.svg\" alt=\"Open In Colab\"/></a>"
      ]
    },
    {
      "cell_type": "code",
      "execution_count": 4,
      "metadata": {
        "colab": {
          "base_uri": "https://localhost:8080/"
        },
        "id": "azhZN7dZ9Mpg",
        "outputId": "4ff70987-ffd1-4ea1-bc2b-33e1f17133f5"
      },
      "outputs": [
        {
          "output_type": "stream",
          "name": "stdout",
          "text": [
            "Deepanshu Pasrija\n"
          ]
        }
      ],
      "source": [
        "first = \"Deepanshu\"\n",
        "last = \"Pasrija\"\n",
        "print(first, last)"
      ]
    }
  ]
}