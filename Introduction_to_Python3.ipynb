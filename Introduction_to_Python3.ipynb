{
  "nbformat": 4,
  "nbformat_minor": 0,
  "metadata": {
    "colab": {
      "name": "Introduction to Python3.ipynb",
      "provenance": [],
      "collapsed_sections": [],
      "authorship_tag": "ABX9TyN8cZXqNy/93edQx9gjrsLc",
      "include_colab_link": true
    },
    "kernelspec": {
      "name": "python3",
      "display_name": "Python 3"
    },
    "language_info": {
      "name": "python"
    }
  },
  "cells": [
    {
      "cell_type": "markdown",
      "metadata": {
        "id": "view-in-github",
        "colab_type": "text"
      },
      "source": [
        "<a href=\"https://colab.research.google.com/github/djviga/DFEDataCohort16/blob/main/Introduction_to_Python3.ipynb\" target=\"_parent\"><img src=\"https://colab.research.google.com/assets/colab-badge.svg\" alt=\"Open In Colab\"/></a>"
      ]
    },
    {
      "cell_type": "markdown",
      "source": [
        "Introduction to Python3 Creating variables Print values"
      ],
      "metadata": {
        "id": "fnpltNEzCvy-"
      }
    },
    {
      "cell_type": "code",
      "execution_count": 2,
      "metadata": {
        "colab": {
          "base_uri": "https://localhost:8080/"
        },
        "id": "azhZN7dZ9Mpg",
        "outputId": "bde27635-01fe-408a-b7e5-8d426a490e3a"
      },
      "outputs": [
        {
          "output_type": "stream",
          "name": "stdout",
          "text": [
            "Deepanshu Pasrija\n"
          ]
        }
      ],
      "source": [
        "first = \"Deepanshu\"\n",
        "last = \"Pasrija\"\n",
        "print(first, last)"
      ]
    },
    {
      "cell_type": "code",
      "source": [
        "names = [first, last]\n",
        "print(names)"
      ],
      "metadata": {
        "colab": {
          "base_uri": "https://localhost:8080/"
        },
        "id": "7ucrH_cZC4GD",
        "outputId": "f7f7d281-24ac-4b7d-9b68-ff7ce2e604f1"
      },
      "execution_count": 3,
      "outputs": [
        {
          "output_type": "stream",
          "name": "stdout",
          "text": [
            "['Deepanshu', 'Pasrija']\n"
          ]
        }
      ]
    }
  ]
}