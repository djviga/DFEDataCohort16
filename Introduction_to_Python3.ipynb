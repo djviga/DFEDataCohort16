{
  "nbformat": 4,
  "nbformat_minor": 0,
  "metadata": {
    "colab": {
      "name": "Introduction to Python3.ipynb",
      "provenance": [],
      "collapsed_sections": [],
      "authorship_tag": "ABX9TyP0fZqCFwFfFi/zNdOtEVgQ",
      "include_colab_link": true
    },
    "kernelspec": {
      "name": "python3",
      "display_name": "Python 3"
    },
    "language_info": {
      "name": "python"
    }
  },
  "cells": [
    {
      "cell_type": "markdown",
      "metadata": {
        "id": "view-in-github",
        "colab_type": "text"
      },
      "source": [
        "<a href=\"https://colab.research.google.com/github/djviga/DFEDataCohort16/blob/main/Introduction_to_Python3.ipynb\" target=\"_parent\"><img src=\"https://colab.research.google.com/assets/colab-badge.svg\" alt=\"Open In Colab\"/></a>"
      ]
    },
    {
      "cell_type": "markdown",
      "source": [
        "Introduction to Python3 Creating variables Print values"
      ],
      "metadata": {
        "id": "fnpltNEzCvy-"
      }
    },
    {
      "cell_type": "code",
      "execution_count": 2,
      "metadata": {
        "colab": {
          "base_uri": "https://localhost:8080/"
        },
        "id": "azhZN7dZ9Mpg",
        "outputId": "bde27635-01fe-408a-b7e5-8d426a490e3a"
      },
      "outputs": [
        {
          "output_type": "stream",
          "name": "stdout",
          "text": [
            "Deepanshu Pasrija\n"
          ]
        }
      ],
      "source": [
        "first = \"Deepanshu\"\n",
        "last = \"Pasrija\"\n",
        "print(first, last) # Print function - parameters as first and last"
      ]
    },
    {
      "cell_type": "code",
      "source": [
        "names = [first, last, first, \"error\"] # [] are to create a list\n",
        "print(names)"
      ],
      "metadata": {
        "colab": {
          "base_uri": "https://localhost:8080/"
        },
        "id": "7ucrH_cZC4GD",
        "outputId": "0534c680-92f8-464c-8899-e29f70266159"
      },
      "execution_count": 4,
      "outputs": [
        {
          "output_type": "stream",
          "name": "stdout",
          "text": [
            "['Deepanshu', 'Pasrija', 'Deepanshu', 'error']\n"
          ]
        }
      ]
    },
    {
      "cell_type": "code",
      "source": [
        "boolVar = bool(1) # 1-> value is true, 0 -> values is false\n",
        "print(bool)"
      ],
      "metadata": {
        "colab": {
          "base_uri": "https://localhost:8080/"
        },
        "id": "YFUL4J27EDaa",
        "outputId": "8e74b290-9ea7-48ea-c7b6-a439b3eea103"
      },
      "execution_count": 5,
      "outputs": [
        {
          "output_type": "stream",
          "name": "stdout",
          "text": [
            "<class 'bool'>\n"
          ]
        }
      ]
    }
  ]
}