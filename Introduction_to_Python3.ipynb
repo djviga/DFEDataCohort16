{
  "nbformat": 4,
  "nbformat_minor": 0,
  "metadata": {
    "colab": {
      "name": "Introduction to Python3.ipynb",
      "provenance": [],
      "collapsed_sections": [],
      "authorship_tag": "ABX9TyNvSOqI14fkUdpBAtrV1F24",
      "include_colab_link": true
    },
    "kernelspec": {
      "name": "python3",
      "display_name": "Python 3"
    },
    "language_info": {
      "name": "python"
    }
  },
  "cells": [
    {
      "cell_type": "markdown",
      "metadata": {
        "id": "view-in-github",
        "colab_type": "text"
      },
      "source": [
        "<a href=\"https://colab.research.google.com/github/djviga/DFEDataCohort16/blob/main/Introduction_to_Python3.ipynb\" target=\"_parent\"><img src=\"https://colab.research.google.com/assets/colab-badge.svg\" alt=\"Open In Colab\"/></a>"
      ]
    },
    {
      "cell_type": "markdown",
      "source": [
        "Introduction to Python3 Creating variables Print values"
      ],
      "metadata": {
        "id": "fnpltNEzCvy-"
      }
    },
    {
      "cell_type": "code",
      "execution_count": 6,
      "metadata": {
        "colab": {
          "base_uri": "https://localhost:8080/"
        },
        "id": "azhZN7dZ9Mpg",
        "outputId": "9bd43518-f2a2-4fd1-fb9c-b6a79b7f9868"
      },
      "outputs": [
        {
          "output_type": "stream",
          "name": "stdout",
          "text": [
            "Deepanshu Pasrija\n",
            "DEEPANSHU\n"
          ]
        }
      ],
      "source": [
        "first = \"Deepanshu\"\n",
        "last = \"Pasrija\"\n",
        "print(first, last) # Print function - parameters as first and last\n",
        "# numb = 23\n",
        "\n",
        "firstu = first.upper()  # To put words in upper case\n",
        "print(firstu)"
      ]
    },
    {
      "cell_type": "code",
      "source": [
        "names = [first, last, first, \"error\"] # [] are to create a list\n",
        "print(names)"
      ],
      "metadata": {
        "colab": {
          "base_uri": "https://localhost:8080/"
        },
        "id": "7ucrH_cZC4GD",
        "outputId": "97685cb6-f62e-41d2-abda-19a8e647dba4"
      },
      "execution_count": 7,
      "outputs": [
        {
          "output_type": "stream",
          "name": "stdout",
          "text": [
            "['Deepanshu', 'Pasrija', 'Deepanshu', 'error']\n"
          ]
        }
      ]
    },
    {
      "cell_type": "code",
      "source": [
        "boolVar = bool(1) # 1-> value is true, 0 -> values is false\n",
        "print(bool)"
      ],
      "metadata": {
        "colab": {
          "base_uri": "https://localhost:8080/"
        },
        "id": "YFUL4J27EDaa",
        "outputId": "06637030-2644-4a67-a893-6f77061cceee"
      },
      "execution_count": 8,
      "outputs": [
        {
          "output_type": "stream",
          "name": "stdout",
          "text": [
            "<class 'bool'>\n"
          ]
        }
      ]
    },
    {
      "cell_type": "code",
      "source": [
        "numb = 23\n",
        "number = 2\n",
        "number += numb\n",
        "print(number)"
      ],
      "metadata": {
        "colab": {
          "base_uri": "https://localhost:8080/"
        },
        "id": "rsXVpOLvcTu-",
        "outputId": "76f0b884-5dfe-40cc-ebec-c7aa5c2a267b"
      },
      "execution_count": 10,
      "outputs": [
        {
          "output_type": "stream",
          "name": "stdout",
          "text": [
            "25\n"
          ]
        }
      ]
    },
    {
      "cell_type": "markdown",
      "source": [
        "Exercice 1"
      ],
      "metadata": {
        "id": "cRn1KZsdotum"
      }
    },
    {
      "cell_type": "code",
      "source": [
        "# This race requires 45 laps\n",
        "# Show much fuel required\n",
        "\n",
        "fuel_per_lap = 2.25\n",
        "laps = input(\"Total laps: \")\n",
        "TF = fuel_per_lap * int(laps)\n",
        "print(\"Total fuel requirement: \", TF)"
      ],
      "metadata": {
        "colab": {
          "base_uri": "https://localhost:8080/"
        },
        "id": "FORwUUfmnZIB",
        "outputId": "999e1a8e-4126-4b02-d967-762821c21cca"
      },
      "execution_count": 13,
      "outputs": [
        {
          "output_type": "stream",
          "name": "stdout",
          "text": [
            "Total laps: 8\n",
            "Total fuel requirement:  18.0\n"
          ]
        }
      ]
    },
    {
      "cell_type": "markdown",
      "source": [
        "Trainer Awnser"
      ],
      "metadata": {
        "id": "yyt5PXtqpKb7"
      }
    },
    {
      "cell_type": "code",
      "source": [
        "# This race requires 45 laps\n",
        "# Show much fuel required\n",
        "\n",
        "fuel_per_lap = 2.25\n",
        "laps = 45\n",
        "fuel_requirement = fuel_per_lap * laps\n"
      ],
      "metadata": {
        "id": "e91xiUd-pQx6"
      },
      "execution_count": 14,
      "outputs": []
    },
    {
      "cell_type": "code",
      "source": [
        "fuel = fuel_requirement * 1.5 # 50% extra fuel for contingency\n",
        "print(\"Fuel fuel load: \",fuel,\"kg\")\n"
      ],
      "metadata": {
        "colab": {
          "base_uri": "https://localhost:8080/"
        },
        "id": "Wn7hCDB9phpk",
        "outputId": "83154cb8-a8f2-4444-85a7-22b184e63d6c"
      },
      "execution_count": 15,
      "outputs": [
        {
          "output_type": "stream",
          "name": "stdout",
          "text": [
            "Fuel fuel load:  151.875 kg\n"
          ]
        }
      ]
    },
    {
      "cell_type": "code",
      "source": [
        "if 20 <= fuel <= 200:\n",
        "  print(\"low fuel for the journey\")\n",
        "else:\n",
        "  print(\"High fuel\")"
      ],
      "metadata": {
        "colab": {
          "base_uri": "https://localhost:8080/"
        },
        "id": "Q-x0oXQLp9q2",
        "outputId": "8ca27d94-576c-47cf-cbb8-53b5e3f031ff"
      },
      "execution_count": 17,
      "outputs": [
        {
          "output_type": "stream",
          "name": "stdout",
          "text": [
            "low fuel for the journey\n"
          ]
        }
      ]
    },
    {
      "cell_type": "code",
      "source": [
        "mylist = [0,1,2,3]\n",
        "if mylist:\n",
        "  print(\"mylist is True\")"
      ],
      "metadata": {
        "colab": {
          "base_uri": "https://localhost:8080/"
        },
        "id": "o5VGD-eus5Xl",
        "outputId": "94d7bf40-7f73-47aa-f21a-05974c9266d0"
      },
      "execution_count": 19,
      "outputs": [
        {
          "output_type": "stream",
          "name": "stdout",
          "text": [
            "mylist is True\n"
          ]
        }
      ]
    },
    {
      "cell_type": "code",
      "source": [
        "num = 42\n",
        "txt = \"3\"\n",
        "\n",
        "if int(txt) < num:\n",
        "  print(\"Wow!\")\n",
        "elif txt < num:\n",
        "  print(\"Wow!\")\n",
        "else:\n",
        "  print('Doh!')\n",
        "if int(txt) < num:\n",
        "  print('Wow!')\n",
        "else:\n",
        "  print('Doh!')"
      ],
      "metadata": {
        "colab": {
          "base_uri": "https://localhost:8080/"
        },
        "id": "9ISXblWttVCw",
        "outputId": "619dce05-6f62-4d7b-a9d2-b50e67de754b"
      },
      "execution_count": 20,
      "outputs": [
        {
          "output_type": "stream",
          "name": "stdout",
          "text": [
            "Wow!\n",
            "Wow!\n"
          ]
        }
      ]
    },
    {
      "cell_type": "code",
      "source": [
        ""
      ],
      "metadata": {
        "id": "JmiCuUkCzH79"
      },
      "execution_count": null,
      "outputs": []
    }
  ]
}